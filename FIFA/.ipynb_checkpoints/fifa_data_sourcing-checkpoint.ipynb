{
 "cells": [
  {
   "cell_type": "code",
   "execution_count": 6,
   "id": "5b3ac41b",
   "metadata": {},
   "outputs": [
    {
     "name": "stdout",
     "output_type": "stream",
     "text": [
      "\n",
      "Files already downloaded\n",
      "\n",
      "Files available:\n",
      "  players_22.csv\n",
      "  players_21.csv\n",
      "  players_20.csv\n",
      "  players_18.csv\n",
      "  players_19.csv\n",
      "  players_17.csv\n",
      "  players_16.csv\n",
      "  players_15.csv\n"
     ]
    }
   ],
   "source": [
    "import requests, zipfile, io, os\n",
    "\n",
    "local_path = \"./rawdata\"\n",
    "def get_raw_data(local_path, overwrite = False):\n",
    "    if len(os.listdir(local_path)) == 0 or overwrite == False:\n",
    "        zip_file_url = \"https://sports-statistics.com/database/fifa/fifa_2022_datasets.zip\"\n",
    "        print(f\"\\nDownloading from : {zip_file_url}\")\n",
    "        r = requests.get(zip_file_url)\n",
    "        z = zipfile.ZipFile(io.BytesIO(r.content))\n",
    "        z.extractall(local_path)\n",
    "        print(\"\\nDownload complete\")\n",
    "    else:\n",
    "        print(\"\\nFiles already downloaded\")\n",
    "    for file_name in os.listdir(local_path):\n",
    "        if file_name[:7] != \"players\":\n",
    "            print(f\"\\nRemoving file not required: {file_name}\")\n",
    "            os.remove(f\"{local_path}/{file_name}\")\n",
    "    print(\"\\nFiles available:\")\n",
    "    for file_name in os.listdir(local_path):\n",
    "        print(f\"  {file_name}\")"
   ]
  },
  {
   "cell_type": "code",
   "execution_count": 12,
   "id": "797cf215",
   "metadata": {},
   "outputs": [
    {
     "name": "stdout",
     "output_type": "stream",
     "text": [
      "['players_22.csv', 'players_21.csv', 'players_20.csv', 'players_18.csv', 'players_19.csv', 'players_17.csv', 'players_16.csv', 'players_15.csv']\n"
     ]
    }
   ],
   "source": [
    "get_raw_data(local_path)"
   ]
  }
 ],
 "metadata": {
  "kernelspec": {
   "display_name": "Python 3 (ipykernel)",
   "language": "python",
   "name": "python3"
  },
  "language_info": {
   "codemirror_mode": {
    "name": "ipython",
    "version": 3
   },
   "file_extension": ".py",
   "mimetype": "text/x-python",
   "name": "python",
   "nbconvert_exporter": "python",
   "pygments_lexer": "ipython3",
   "version": "3.11.1"
  }
 },
 "nbformat": 4,
 "nbformat_minor": 5
}
